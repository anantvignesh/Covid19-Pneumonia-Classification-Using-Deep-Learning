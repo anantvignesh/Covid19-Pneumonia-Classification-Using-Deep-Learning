{
  "nbformat": 4,
  "nbformat_minor": 0,
  "metadata": {
    "colab": {
      "name": "Covid19 Deep Learning.ipynb",
      "provenance": []
    },
    "kernelspec": {
      "name": "python3",
      "display_name": "Python 3"
    },
    "accelerator": "GPU"
  },
  "cells": [
    {
      "cell_type": "markdown",
      "metadata": {
        "id": "bKq_ACQvhrpL",
        "colab_type": "text"
      },
      "source": [
        "#### Import Packages"
      ]
    },
    {
      "cell_type": "code",
      "metadata": {
        "id": "-_tgCphwm5Yd",
        "colab_type": "code",
        "colab": {}
      },
      "source": [
        "from tensorflow.keras.models import Sequential\n",
        "from tensorflow.keras.layers import Dense, Conv2D, Flatten, MaxPooling2D, Dropout\n",
        "from tensorflow.keras.preprocessing.image import ImageDataGenerator\n",
        "import numpy as np\n",
        "import matplotlib.pyplot as plt"
      ],
      "execution_count": 1,
      "outputs": []
    },
    {
      "cell_type": "markdown",
      "metadata": {
        "id": "CInAXAyfkEMB",
        "colab_type": "text"
      },
      "source": [
        "#### Clone Dataset Repository"
      ]
    },
    {
      "cell_type": "code",
      "metadata": {
        "id": "xwWcJrODkH34",
        "colab_type": "code",
        "colab": {
          "base_uri": "https://localhost:8080/",
          "height": 102
        },
        "outputId": "2e0ad38b-b032-4d72-e489-2d7658bdf002"
      },
      "source": [
        "! git clone https://github.com/education454/datasets.git"
      ],
      "execution_count": 3,
      "outputs": [
        {
          "output_type": "stream",
          "text": [
            "Cloning into 'datasets'...\n",
            "remote: Enumerating objects: 2301, done.\u001b[K\n",
            "remote: Total 2301 (delta 0), reused 0 (delta 0), pack-reused 2301\u001b[K\n",
            "Receiving objects: 100% (2301/2301), 1.31 GiB | 28.23 MiB/s, done.\n",
            "Checking out files: 100% (2295/2295), done.\n"
          ],
          "name": "stdout"
        }
      ]
    },
    {
      "cell_type": "code",
      "metadata": {
        "id": "o5zTXRKBkJ8j",
        "colab_type": "code",
        "colab": {}
      },
      "source": [
        "import os\n",
        "\n",
        "base_dir = '/content/datasets/Data'\n",
        "train_dir = os.path.join(base_dir, 'train')\n",
        "test_dir = os.path.join(base_dir, 'test')\n",
        "train_dir_covid19 = os.path.join(train_dir, 'COVID19')\n",
        "train_dir_normal = os.path.join(train_dir, 'NORMAL')\n",
        "test_dir_covid19 = os.path.join(test_dir, 'COVID19')\n",
        "test_dir_normal = os.path.join(test_dir, 'NORMAL')"
      ],
      "execution_count": 4,
      "outputs": []
    },
    {
      "cell_type": "code",
      "metadata": {
        "id": "4kq_ZY1nl962",
        "colab_type": "code",
        "colab": {}
      },
      "source": [
        "train_covid19_images = os.listdir(train_dir_covid19)\n",
        "train_normal_images = os.listdir(train_dir_normal)\n",
        "test_covid19_images = os.listdir(test_dir_covid19)\n",
        "test_normal_images = os.listdir(test_dir_normal)"
      ],
      "execution_count": 5,
      "outputs": []
    },
    {
      "cell_type": "markdown",
      "metadata": {
        "id": "HR7Fu4y3oRqK",
        "colab_type": "text"
      },
      "source": [
        "#### Image Augmentation"
      ]
    },
    {
      "cell_type": "code",
      "metadata": {
        "id": "g-_bR8ZmmhR2",
        "colab_type": "code",
        "colab": {
          "base_uri": "https://localhost:8080/",
          "height": 68
        },
        "outputId": "e938f907-2d33-4f89-86a8-a381265bddd9"
      },
      "source": [
        "#Performs Augmentation (horizontal flip and zoom) on the training data set and splits 20% as validation set\n",
        "train_datagen = ImageDataGenerator(rescale=1./255, validation_split= 0.2, horizontal_flip= True, zoom_range= 0.2)\n",
        "\n",
        "validation_datagen = ImageDataGenerator(rescale=1./255)\n",
        "\n",
        "test_datagen = ImageDataGenerator(rescale=1./255)\n",
        "\n",
        "#Create training data\n",
        "train_generator = train_datagen.flow_from_directory(train_dir, target_size=(150,150), subset = \"training\",class_mode='binary', batch_size=32)\n",
        "#Create validation data\n",
        "validation_generator = train_datagen.flow_from_directory(train_dir, target_size=(150,150), subset = \"validation\",class_mode='binary', batch_size=32)\n",
        "#Create testing data\n",
        "test_generator = train_datagen.flow_from_directory(test_dir, target_size=(150,150),class_mode='binary', batch_size=32)"
      ],
      "execution_count": 6,
      "outputs": [
        {
          "output_type": "stream",
          "text": [
            "Found 1449 images belonging to 2 classes.\n",
            "Found 362 images belonging to 2 classes.\n",
            "Found 484 images belonging to 2 classes.\n"
          ],
          "name": "stdout"
        }
      ]
    },
    {
      "cell_type": "code",
      "metadata": {
        "id": "Y3Dx0VgmrU7M",
        "colab_type": "code",
        "colab": {
          "base_uri": "https://localhost:8080/",
          "height": 34
        },
        "outputId": "689d8a23-10b9-4eaa-c3da-f236b205d018"
      },
      "source": [
        "train_generator.class_indices"
      ],
      "execution_count": 7,
      "outputs": [
        {
          "output_type": "execute_result",
          "data": {
            "text/plain": [
              "{'COVID19': 0, 'NORMAL': 1}"
            ]
          },
          "metadata": {
            "tags": []
          },
          "execution_count": 7
        }
      ]
    },
    {
      "cell_type": "code",
      "metadata": {
        "id": "TV7qDaqq1ISR",
        "colab_type": "code",
        "colab": {
          "base_uri": "https://localhost:8080/",
          "height": 34
        },
        "outputId": "8e2545cd-4327-4b36-aefa-3dd95899894b"
      },
      "source": [
        "train_generator.image_shape"
      ],
      "execution_count": 8,
      "outputs": [
        {
          "output_type": "execute_result",
          "data": {
            "text/plain": [
              "(150, 150, 3)"
            ]
          },
          "metadata": {
            "tags": []
          },
          "execution_count": 8
        }
      ]
    },
    {
      "cell_type": "markdown",
      "metadata": {
        "id": "mBIRvEopxzKI",
        "colab_type": "text"
      },
      "source": [
        "#### Create Model"
      ]
    },
    {
      "cell_type": "code",
      "metadata": {
        "id": "lTqJGqmusxRR",
        "colab_type": "code",
        "colab": {
          "base_uri": "https://localhost:8080/",
          "height": 493
        },
        "outputId": "b823384a-6859-4b1b-f31a-691344cc46d9"
      },
      "source": [
        "model = Sequential()\n",
        "# First CNN Layer\n",
        "model.add(Conv2D(32, (5,5), padding='SAME', activation='relu', input_shape=(150, 150,3)))\n",
        "model.add(MaxPooling2D(pool_size=(2,2)))\n",
        "model.add(Dropout(0.5))\n",
        "\n",
        "# Second CNN Layer\n",
        "model.add(Conv2D(64, (5,5), padding='SAME', activation='relu'))\n",
        "model.add(MaxPooling2D(pool_size=(2,2)))\n",
        "model.add(Dropout(0.5))\n",
        "\n",
        "# Flatten Layer\n",
        "model.add(Flatten())\n",
        "\n",
        "# Dense Layer\n",
        "model.add(Dense(256, activation='relu'))\n",
        "\n",
        "# Dropout Layer\n",
        "model.add(Dropout(0.5))\n",
        "\n",
        "# Output Layer\n",
        "model.add(Dense(1, activation='sigmoid'))\n",
        "\n",
        "model.summary()"
      ],
      "execution_count": 9,
      "outputs": [
        {
          "output_type": "stream",
          "text": [
            "Model: \"sequential\"\n",
            "_________________________________________________________________\n",
            "Layer (type)                 Output Shape              Param #   \n",
            "=================================================================\n",
            "conv2d (Conv2D)              (None, 150, 150, 32)      2432      \n",
            "_________________________________________________________________\n",
            "max_pooling2d (MaxPooling2D) (None, 75, 75, 32)        0         \n",
            "_________________________________________________________________\n",
            "dropout (Dropout)            (None, 75, 75, 32)        0         \n",
            "_________________________________________________________________\n",
            "conv2d_1 (Conv2D)            (None, 75, 75, 64)        51264     \n",
            "_________________________________________________________________\n",
            "max_pooling2d_1 (MaxPooling2 (None, 37, 37, 64)        0         \n",
            "_________________________________________________________________\n",
            "dropout_1 (Dropout)          (None, 37, 37, 64)        0         \n",
            "_________________________________________________________________\n",
            "flatten (Flatten)            (None, 87616)             0         \n",
            "_________________________________________________________________\n",
            "dense (Dense)                (None, 256)               22429952  \n",
            "_________________________________________________________________\n",
            "dropout_2 (Dropout)          (None, 256)               0         \n",
            "_________________________________________________________________\n",
            "dense_1 (Dense)              (None, 1)                 257       \n",
            "=================================================================\n",
            "Total params: 22,483,905\n",
            "Trainable params: 22,483,905\n",
            "Non-trainable params: 0\n",
            "_________________________________________________________________\n"
          ],
          "name": "stdout"
        }
      ]
    },
    {
      "cell_type": "markdown",
      "metadata": {
        "id": "SU6ToDht1poY",
        "colab_type": "text"
      },
      "source": [
        "#### Compile And Training Model"
      ]
    },
    {
      "cell_type": "code",
      "metadata": {
        "id": "Di1NU6Vf1Mju",
        "colab_type": "code",
        "colab": {}
      },
      "source": [
        "# Compile Model\n",
        "from tensorflow.keras.optimizers import Adam\n",
        "model.compile(optimizer='Adam', metrics=['accuracy'], loss='binary_crossentropy')"
      ],
      "execution_count": 10,
      "outputs": []
    },
    {
      "cell_type": "code",
      "metadata": {
        "id": "U4_SzgqC2DDi",
        "colab_type": "code",
        "colab": {
          "base_uri": "https://localhost:8080/",
          "height": 1000
        },
        "outputId": "eed340bd-522f-40ca-9971-c510389aaa53"
      },
      "source": [
        "# Train Model\n",
        "history = model.fit(train_generator, epochs=30, validation_data=validation_generator, validation_steps=10)"
      ],
      "execution_count": 12,
      "outputs": [
        {
          "output_type": "stream",
          "text": [
            "Epoch 1/30\n",
            "46/46 [==============================] - 44s 965ms/step - loss: 1.1936 - accuracy: 0.7453 - val_loss: 0.4036 - val_accuracy: 0.8344\n",
            "Epoch 2/30\n",
            "46/46 [==============================] - 45s 981ms/step - loss: 0.2436 - accuracy: 0.8999 - val_loss: 0.1732 - val_accuracy: 0.9469\n",
            "Epoch 3/30\n",
            "46/46 [==============================] - 44s 965ms/step - loss: 0.1598 - accuracy: 0.9365 - val_loss: 0.1428 - val_accuracy: 0.9531\n",
            "Epoch 4/30\n",
            "46/46 [==============================] - 45s 971ms/step - loss: 0.1675 - accuracy: 0.9427 - val_loss: 0.1261 - val_accuracy: 0.9531\n",
            "Epoch 5/30\n",
            "46/46 [==============================] - 45s 975ms/step - loss: 0.1576 - accuracy: 0.9441 - val_loss: 0.1373 - val_accuracy: 0.9688\n",
            "Epoch 6/30\n",
            "46/46 [==============================] - 45s 968ms/step - loss: 0.1403 - accuracy: 0.9489 - val_loss: 0.1571 - val_accuracy: 0.9594\n",
            "Epoch 7/30\n",
            "46/46 [==============================] - 45s 968ms/step - loss: 0.1354 - accuracy: 0.9496 - val_loss: 0.1231 - val_accuracy: 0.9656\n",
            "Epoch 8/30\n",
            "46/46 [==============================] - 44s 966ms/step - loss: 0.1246 - accuracy: 0.9593 - val_loss: 0.1098 - val_accuracy: 0.9594\n",
            "Epoch 9/30\n",
            "46/46 [==============================] - 45s 976ms/step - loss: 0.1239 - accuracy: 0.9558 - val_loss: 0.0996 - val_accuracy: 0.9750\n",
            "Epoch 10/30\n",
            "46/46 [==============================] - 44s 963ms/step - loss: 0.1221 - accuracy: 0.9593 - val_loss: 0.0875 - val_accuracy: 0.9719\n",
            "Epoch 11/30\n",
            "46/46 [==============================] - 44s 965ms/step - loss: 0.0976 - accuracy: 0.9703 - val_loss: 0.0970 - val_accuracy: 0.9719\n",
            "Epoch 12/30\n",
            "46/46 [==============================] - 44s 964ms/step - loss: 0.0989 - accuracy: 0.9717 - val_loss: 0.0783 - val_accuracy: 0.9750\n",
            "Epoch 13/30\n",
            "46/46 [==============================] - 44s 962ms/step - loss: 0.0957 - accuracy: 0.9683 - val_loss: 0.1002 - val_accuracy: 0.9812\n",
            "Epoch 14/30\n",
            "46/46 [==============================] - 44s 957ms/step - loss: 0.1144 - accuracy: 0.9655 - val_loss: 0.1030 - val_accuracy: 0.9719\n",
            "Epoch 15/30\n",
            "46/46 [==============================] - 44s 958ms/step - loss: 0.0960 - accuracy: 0.9669 - val_loss: 0.0935 - val_accuracy: 0.9719\n",
            "Epoch 16/30\n",
            "46/46 [==============================] - 45s 972ms/step - loss: 0.0880 - accuracy: 0.9703 - val_loss: 0.0782 - val_accuracy: 0.9719\n",
            "Epoch 17/30\n",
            "46/46 [==============================] - 44s 959ms/step - loss: 0.0741 - accuracy: 0.9752 - val_loss: 0.0662 - val_accuracy: 0.9844\n",
            "Epoch 18/30\n",
            "46/46 [==============================] - 43s 945ms/step - loss: 0.0747 - accuracy: 0.9717 - val_loss: 0.0645 - val_accuracy: 0.9812\n",
            "Epoch 19/30\n",
            "46/46 [==============================] - 44s 958ms/step - loss: 0.0678 - accuracy: 0.9779 - val_loss: 0.0804 - val_accuracy: 0.9688\n",
            "Epoch 20/30\n",
            "46/46 [==============================] - 44s 957ms/step - loss: 0.0645 - accuracy: 0.9786 - val_loss: 0.1129 - val_accuracy: 0.9438\n",
            "Epoch 21/30\n",
            "46/46 [==============================] - 44s 952ms/step - loss: 0.0861 - accuracy: 0.9731 - val_loss: 0.0718 - val_accuracy: 0.9781\n",
            "Epoch 22/30\n",
            "46/46 [==============================] - 44s 959ms/step - loss: 0.0658 - accuracy: 0.9724 - val_loss: 0.0709 - val_accuracy: 0.9781\n",
            "Epoch 23/30\n",
            "46/46 [==============================] - 45s 989ms/step - loss: 0.0665 - accuracy: 0.9807 - val_loss: 0.0708 - val_accuracy: 0.9875\n",
            "Epoch 24/30\n",
            "46/46 [==============================] - 45s 978ms/step - loss: 0.0613 - accuracy: 0.9786 - val_loss: 0.0804 - val_accuracy: 0.9719\n",
            "Epoch 25/30\n",
            "46/46 [==============================] - 45s 983ms/step - loss: 0.0612 - accuracy: 0.9793 - val_loss: 0.0733 - val_accuracy: 0.9625\n",
            "Epoch 26/30\n",
            "46/46 [==============================] - 45s 986ms/step - loss: 0.0720 - accuracy: 0.9731 - val_loss: 0.0692 - val_accuracy: 0.9750\n",
            "Epoch 27/30\n",
            "46/46 [==============================] - 45s 980ms/step - loss: 0.0630 - accuracy: 0.9758 - val_loss: 0.0533 - val_accuracy: 0.9781\n",
            "Epoch 28/30\n",
            "46/46 [==============================] - 45s 973ms/step - loss: 0.0732 - accuracy: 0.9758 - val_loss: 0.0571 - val_accuracy: 0.9844\n",
            "Epoch 29/30\n",
            "46/46 [==============================] - 45s 984ms/step - loss: 0.0651 - accuracy: 0.9807 - val_loss: 0.0730 - val_accuracy: 0.9812\n",
            "Epoch 30/30\n",
            "46/46 [==============================] - 47s 1s/step - loss: 0.0600 - accuracy: 0.9793 - val_loss: 0.0640 - val_accuracy: 0.9812\n"
          ],
          "name": "stdout"
        }
      ]
    },
    {
      "cell_type": "markdown",
      "metadata": {
        "id": "ka3virMY-h0y",
        "colab_type": "text"
      },
      "source": [
        "#### Model Evaluation"
      ]
    },
    {
      "cell_type": "code",
      "metadata": {
        "id": "8uCxDv2O-kd-",
        "colab_type": "code",
        "colab": {
          "base_uri": "https://localhost:8080/",
          "height": 51
        },
        "outputId": "9a48d5a8-364d-4873-bfe5-8e69898fc435"
      },
      "source": [
        "test_loss, test_acc = model.evaluate(test_generator)\n",
        "print('test_loss: {}, test_Accuracy: {}'.format(test_loss, test_acc))"
      ],
      "execution_count": 17,
      "outputs": [
        {
          "output_type": "stream",
          "text": [
            "16/16 [==============================] - 11s 678ms/step - loss: 0.0670 - accuracy: 0.9793\n",
            "test_loss: 0.06698830425739288, test_Accuracy: 0.9793388247489929\n"
          ],
          "name": "stdout"
        }
      ]
    },
    {
      "cell_type": "markdown",
      "metadata": {
        "id": "83WK4xmT_Cun",
        "colab_type": "text"
      },
      "source": [
        "#### Model Result Visuaization"
      ]
    },
    {
      "cell_type": "code",
      "metadata": {
        "id": "MP689L1A2vG4",
        "colab_type": "code",
        "colab": {
          "base_uri": "https://localhost:8080/",
          "height": 34
        },
        "outputId": "8db7fa4e-4b8a-44ac-cd49-f92c199f3f38"
      },
      "source": [
        "history.history.keys()"
      ],
      "execution_count": 19,
      "outputs": [
        {
          "output_type": "execute_result",
          "data": {
            "text/plain": [
              "dict_keys(['loss', 'accuracy', 'val_loss', 'val_accuracy'])"
            ]
          },
          "metadata": {
            "tags": []
          },
          "execution_count": 19
        }
      ]
    },
    {
      "cell_type": "code",
      "metadata": {
        "id": "uhGcMaUE8VDp",
        "colab_type": "code",
        "colab": {
          "base_uri": "https://localhost:8080/",
          "height": 312
        },
        "outputId": "980b9245-218a-4148-b87e-bb1b1a72cf04"
      },
      "source": [
        "# Plot Training and Validation Loss\n",
        "plt.plot(history.history['loss'])\n",
        "plt.plot(history.history['val_loss'])\n",
        "plt.legend(['Training Loss', 'Validation Loss'])\n",
        "plt.title('Training and Validation Loss Trend')\n",
        "plt.xlabel('Epochs')"
      ],
      "execution_count": 20,
      "outputs": [
        {
          "output_type": "execute_result",
          "data": {
            "text/plain": [
              "Text(0.5, 0, 'Epochs')"
            ]
          },
          "metadata": {
            "tags": []
          },
          "execution_count": 20
        },
        {
          "output_type": "display_data",
          "data": {
            "image/png": "[encoded data removed]",
            "text/plain": [
              "<Figure size 432x288 with 1 Axes>"
            ]
          },
          "metadata": {
            "tags": [],
            "needs_background": "light"
          }
        }
      ]
    },
    {
      "cell_type": "code",
      "metadata": {
        "id": "HC6IORk19QNZ",
        "colab_type": "code",
        "colab": {
          "base_uri": "https://localhost:8080/",
          "height": 312
        },
        "outputId": "3954daac-71ca-4dd3-bf38-2fcc51b95afc"
      },
      "source": [
        "# Plot Training and Validation Accuracy\n",
        "plt.plot(history.history['accuracy'])\n",
        "plt.plot(history.history['val_accuracy'])\n",
        "plt.legend(['Training Accuracy', 'Validation Accuracy'])\n",
        "plt.title('Training and Validation Accuracy Trend')\n",
        "plt.xlabel('Epochs')"
      ],
      "execution_count": 26,
      "outputs": [
        {
          "output_type": "execute_result",
          "data": {
            "text/plain": [
              "Text(0.5, 0, 'Epochs')"
            ]
          },
          "metadata": {
            "tags": []
          },
          "execution_count": 26
        },
        {
          "output_type": "display_data",
          "data": {
            "image/png": "[encoded data removed]",
            "text/plain": [
              "<Figure size 432x288 with 1 Axes>"
            ]
          },
          "metadata": {
            "tags": [],
            "needs_background": "light"
          }
        }
      ]
    },
    {
      "cell_type": "markdown",
      "metadata": {
        "id": "ARq19nB8AxVw",
        "colab_type": "text"
      },
      "source": [
        "#### Save Model"
      ]
    },
    {
      "cell_type": "code",
      "metadata": {
        "id": "uM8WT_Fq9c3z",
        "colab_type": "code",
        "colab": {}
      },
      "source": [
        "model.save('Covid19_Xray_Predictor_acc_98.h5')"
      ],
      "execution_count": 22,
      "outputs": []
    },
    {
      "cell_type": "markdown",
      "metadata": {
        "id": "ulz9QLP_BIKB",
        "colab_type": "text"
      },
      "source": [
        "#### Testing Model With New Files"
      ]
    },
    {
      "cell_type": "code",
      "metadata": {
        "id": "PzIoBdw9BCP3",
        "colab_type": "code",
        "colab": {
          "resources": {
            "http://localhost:8080/nbextensions/google.colab/files.js": {
              "data": "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",
              "ok": true,
              "headers": [
                [
                  "content-type",
                  "application/javascript"
                ]
              ],
              "status": 200,
              "status_text": ""
            }
          },
          "base_uri": "https://localhost:8080/",
          "height": 123
        },
        "outputId": "1d731c63-c55f-44e0-d7bc-034eef350d6d"
      },
      "source": [
        "import numpy as np\n",
        "from google.colab import files\n",
        "from keras.preprocessing import image\n",
        "\n",
        "uploaded = files.upload()\n",
        "\n",
        "for fn in uploaded.keys():\n",
        "  path = '/content/'+fn\n",
        "  print(path)\n",
        "  img = image.load_img(path, target_size=(150,150))\n",
        "  x = image.img_to_array(img)\n",
        "  x = np.expand_dims(x, axis=0)\n",
        "  images = np.vstack([x])\n",
        "  classes = model.predict(images, batch_size=10)\n",
        "  print(fn)\n",
        "  if classes == 0:\n",
        "    print('Covid-19 Positive')\n",
        "  else:\n",
        "    print('Covid-19 Negative')"
      ],
      "execution_count": 25,
      "outputs": [
        {
          "output_type": "display_data",
          "data": {
            "text/html": [
              "\n",
              "     <input type=\"file\" id=\"files-64903cf8-7536-4010-8d3b-4c7400779e3b\" name=\"files[]\" multiple disabled\n",
              "        style=\"border:none\" />\n",
              "     <output id=\"result-64903cf8-7536-4010-8d3b-4c7400779e3b\">\n",
              "      Upload widget is only available when the cell has been executed in the\n",
              "      current browser session. Please rerun this cell to enable.\n",
              "      </output>\n",
              "      <script src=\"/nbextensions/google.colab/files.js\"></script> "
            ],
            "text/plain": [
              "<IPython.core.display.HTML object>"
            ]
          },
          "metadata": {
            "tags": []
          }
        },
        {
          "output_type": "stream",
          "text": [
            "Saving Normal-chest-X-ray-CXR.jpg to Normal-chest-X-ray-CXR.jpg\n",
            "/content/Normal-chest-X-ray-CXR.jpg\n",
            "Normal-chest-X-ray-CXR.jpg\n",
            "Covid-19 Positive\n"
          ],
          "name": "stdout"
        }
      ]
    }
  ]
}